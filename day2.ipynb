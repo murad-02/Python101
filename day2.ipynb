{
 "cells": [
  {
   "cell_type": "markdown",
   "id": "09e7015d",
   "metadata": {},
   "source": [
    "# Session 2\n",
    "## Table of contents\n",
    "\n",
    "* [Optional arguments to the print function](#Optional_arguments_to_print)\n",
    "* [Operators and Math formulas](#opt_math_formulas)\n",
    "* [Python Modules](#python_modules)\n",
    "* [Conditional Statements](#con_stmnt)\n",
    "* [Loops](#loops)\n",
    "* [Lists](#lists)\n",
    "* [Tuples](#tuples)\n",
    "* [Sets](#sets)"
   ]
  },
  {
   "cell_type": "code",
   "execution_count": 2,
   "id": "812393c8",
   "metadata": {},
   "outputs": [
    {
     "name": "stdout",
     "output_type": "stream",
     "text": [
      "1,2,3,4,5\n"
     ]
    }
   ],
   "source": [
    "print(1,2,3,4,5, sep=',')"
   ]
  },
  {
   "cell_type": "code",
   "execution_count": 3,
   "id": "1a3c0675",
   "metadata": {},
   "outputs": [
    {
     "name": "stdout",
     "output_type": "stream",
     "text": [
      "1 2 3\n",
      " hi \n"
     ]
    }
   ],
   "source": [
    "print(1,2,3, end='\\n hi \\n')"
   ]
  },
  {
   "cell_type": "markdown",
   "id": "8bebc3f2",
   "metadata": {},
   "source": [
    "## Function"
   ]
  },
  {
   "cell_type": "code",
   "execution_count": null,
   "id": "1c26135d",
   "metadata": {},
   "outputs": [
    {
     "name": "stdout",
     "output_type": "stream",
     "text": [
      "Hello Murad\n"
     ]
    }
   ],
   "source": [
    "\n",
    "def names(name):\n",
    "    \"\"\"\n",
    "    This function takes \n",
    "    string parameter input \n",
    "    as name and greet\n",
    "    Args:\n",
    "        name (String): The string takes \n",
    "        the name of someone\n",
    "    \"\"\"\n",
    "    # Here printing the name\n",
    "    print(\"Hello \" + name)\n",
    " # Here taking the name   \n",
    "names(\"Murad\")"
   ]
  },
  {
   "cell_type": "code",
   "execution_count": 25,
   "id": "8f447eb9",
   "metadata": {},
   "outputs": [
    {
     "data": {
      "text/plain": [
       "17"
      ]
     },
     "execution_count": 25,
     "metadata": {},
     "output_type": "execute_result"
    }
   ],
   "source": [
    "from random import randint\n",
    "randint(10,20)"
   ]
  },
  {
   "cell_type": "code",
   "execution_count": 2,
   "id": "83994928",
   "metadata": {},
   "outputs": [
    {
     "name": "stdout",
     "output_type": "stream",
     "text": [
      "x is neither 3 nor 5\n"
     ]
    }
   ],
   "source": [
    "x = int(input(\"Enter a number\"))\n",
    "if x ==3:\n",
    "    print(\"x is 3\")\n",
    "elif(x == 5):\n",
    "    print(\"x is 5\")\n",
    "else:\n",
    "    print(\"x is neither 3 nor 5\")"
   ]
  },
  {
   "cell_type": "code",
   "execution_count": 3,
   "id": "a3989475",
   "metadata": {},
   "outputs": [
    {
     "name": "stdout",
     "output_type": "stream",
     "text": [
      "X is not 5\n"
     ]
    }
   ],
   "source": [
    "if x != 5: # if x is not 3\n",
    "    print(\"X is not 5\")"
   ]
  },
  {
   "cell_type": "code",
   "execution_count": 15,
   "id": "b7c6d92b",
   "metadata": {},
   "outputs": [
    {
     "name": "stdout",
     "output_type": "stream",
     "text": [
      "You got this\n"
     ]
    }
   ],
   "source": [
    "num = 5\n",
    "guess = int(input())\n",
    "if num == guess:\n",
    "    print(\"You got this\")\n",
    "else:\n",
    "    print(\"you missed it\")"
   ]
  },
  {
   "cell_type": "code",
   "execution_count": 18,
   "id": "468e19ab",
   "metadata": {},
   "outputs": [
    {
     "name": "stdout",
     "output_type": "stream",
     "text": [
      "Your total bill is $50.00\n"
     ]
    }
   ],
   "source": [
    "entry = input(\"Do you have any discount? (yes/no): \")\n",
    "entry = entry.lower()\n",
    "if (entry == \"yes\"):\n",
    "    print(\"your bill is 45$\")\n",
    "elif (entry == \"no\"):\n",
    "    print(\"Your total bill is $50.00\")\n",
    "else:\n",
    "    print(\"Invalid entry\")"
   ]
  },
  {
   "cell_type": "code",
   "execution_count": 24,
   "id": "0a590ccf",
   "metadata": {},
   "outputs": [
    {
     "name": "stdout",
     "output_type": "stream",
     "text": [
      "100 90 80 70 60 50 40 30 20 10 "
     ]
    }
   ],
   "source": [
    "for i in range(100,1,-5):\n",
    "    if( i %2 ==0):\n",
    "        print(i, end=\" \")"
   ]
  },
  {
   "cell_type": "code",
   "execution_count": 39,
   "id": "a02b58d9",
   "metadata": {},
   "outputs": [
    {
     "name": "stdout",
     "output_type": "stream",
     "text": [
      "5 7\n"
     ]
    }
   ],
   "source": [
    "name = str(input(\"Enter your full name\"))\n",
    "name = name.lower()\n",
    "vowel = 0\n",
    "con = 0\n",
    "for i in range(0, len(name)):\n",
    "    if(name[i] == \" \"):\n",
    "        continue\n",
    "    elif(name[i] == \"a\" or name[i] == \"e\" or name[i] == \"i\" or name[i] == \"o\" or name[i] == \"u\"):\n",
    "        vowel+=1\n",
    "    else:\n",
    "        con+=1\n",
    "print(vowel, con)"
   ]
  },
  {
   "cell_type": "code",
   "execution_count": 40,
   "id": "6bd222f3",
   "metadata": {},
   "outputs": [
    {
     "name": "stdout",
     "output_type": "stream",
     "text": [
      "1\n",
      "2\n",
      "3\n",
      "4\n"
     ]
    },
    {
     "name": "stderr",
     "output_type": "stream",
     "text": [
      "<>:2: SyntaxWarning: \"is not\" with 'int' literal. Did you mean \"!=\"?\n",
      "<>:2: SyntaxWarning: \"is not\" with 'int' literal. Did you mean \"!=\"?\n",
      "<>:2: SyntaxWarning: \"is not\" with 'int' literal. Did you mean \"!=\"?\n",
      "<>:2: SyntaxWarning: \"is not\" with 'int' literal. Did you mean \"!=\"?\n",
      "C:\\Users\\Student\\AppData\\Local\\Temp\\ipykernel_8868\\1358139193.py:2: SyntaxWarning: \"is not\" with 'int' literal. Did you mean \"!=\"?\n",
      "  while i is not 5:\n",
      "C:\\Users\\Student\\AppData\\Local\\Temp\\ipykernel_8868\\1358139193.py:2: SyntaxWarning: \"is not\" with 'int' literal. Did you mean \"!=\"?\n",
      "  while i is not 5:\n"
     ]
    }
   ],
   "source": [
    "i = 1\n",
    "while i is not 5:\n",
    "    print(i)\n",
    "    i+=1"
   ]
  },
  {
   "cell_type": "code",
   "execution_count": null,
   "id": "124e3932",
   "metadata": {},
   "outputs": [
    {
     "data": {
      "text/plain": [
       "57"
      ]
     },
     "execution_count": 62,
     "metadata": {},
     "output_type": "execute_result"
    }
   ],
   "source": [
    "import random\n",
    "number = random.randint(1,100)\n",
    "tryCount = 0\n",
    "while True:\n",
    "    guess = int(input(\"Enter the Number\"))\n",
    "    if(guess<number):\n",
    "        print(\"Lower. Try again\")\n",
    "    elif(guess>number):\n",
    "        print(\"High. Try again\")\n",
    "    else:\n",
    "        print(\"you have got this.\")\n",
    "        break\n",
    "    tryCount+=1\n",
    "print(f\"You have tried: {tryCount}\")"
   ]
  },
  {
   "cell_type": "code",
   "execution_count": null,
   "id": "c6f168fe",
   "metadata": {},
   "outputs": [],
   "source": [
    "import random\n",
    "user1 = random.ra"
   ]
  }
 ],
 "metadata": {
  "kernelspec": {
   "display_name": ".venv",
   "language": "python",
   "name": "python3"
  },
  "language_info": {
   "codemirror_mode": {
    "name": "ipython",
    "version": 3
   },
   "file_extension": ".py",
   "mimetype": "text/x-python",
   "name": "python",
   "nbconvert_exporter": "python",
   "pygments_lexer": "ipython3",
   "version": "3.12.10"
  }
 },
 "nbformat": 4,
 "nbformat_minor": 5
}
